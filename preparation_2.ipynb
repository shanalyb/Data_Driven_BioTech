{
 "cells": [
  {
   "cell_type": "markdown",
   "metadata": {},
   "source": [
    "# Предобработка второй бд"
   ]
  },
  {
   "cell_type": "code",
   "execution_count": 58,
   "metadata": {},
   "outputs": [],
   "source": [
    "import pandas as pd\n",
    "import numpy as np\n",
    "\n",
    "data2 = pd.read_excel('data/Database_2.xlsx')"
   ]
  },
  {
   "cell_type": "markdown",
   "metadata": {},
   "source": [
    "### Отбрасываем признаки"
   ]
  },
  {
   "cell_type": "code",
   "execution_count": 59,
   "metadata": {},
   "outputs": [],
   "source": [
    "# drop_cols = [\n",
    "#     'Animal?', 'Test indicator', 'Biochemical metric', \n",
    "#     'Publication year', 'Particle ID', 'Reference DOI', \n",
    "#     'Interference checked (Y/N)', 'Colloidal stability checked (Y/N)', 'Positive control (Y/N)',\n",
    "#     'Cell age: embryonic (E), Adult (A)', 'Cell-organ/tissue source'\n",
    "# ]\n",
    "# data2 = data2.drop(columns = drop_cols)"
   ]
  },
  {
   "cell_type": "markdown",
   "metadata": {},
   "source": [
    "### Переименовываем признаки"
   ]
  },
  {
   "cell_type": "code",
   "execution_count": 60,
   "metadata": {},
   "outputs": [],
   "source": [
    "data2.rename(\n",
    "    columns = {\n",
    "        'Nanoparticle': 'material_type', \n",
    "        'Concentration μM': 'concentration_ug/ml',\n",
    "        '% Cell viability' : 'viability', \n",
    "        'coat': 'coating', \n",
    "        'Diameter (nm)': 'size_nm',\n",
    "        'Zeta potential (mV)': 'surface_charge_mv', \n",
    "        'Cells': 'cell_type', \n",
    "        'Cell line (L)/primary cells (P)': 'cell_line', \n",
    "        'Human(H)/Animal(A) cells': 'animal',\n",
    "        'Cell morphology': 'cell_morphology', \n",
    "        'Exposure time (h)': 'time_h', \n",
    "        'Test': 'test', \n",
    "        'Type: Organic (O)/inorganic (I)': 'type',\n",
    "        'Animal?': 'animal',\n",
    "        'Test indicator': 'test_indicator', \n",
    "        'Biochemical metric': 'biochemical_metrics', \n",
    "        'Publication year': 'publication_year', \n",
    "        'Particle ID': 'particle_id', \n",
    "        'Reference DOI': 'reference_doi', \n",
    "        'Interference checked (Y/N)': 'interference_test', \n",
    "        'Colloidal stability checked (Y/N)': 'colloidal_stability', \n",
    "        'Positive control (Y/N)': 'positive_control',\n",
    "        'Cell age: embryonic (E), Adult (A)': 'cell_age', \n",
    "        'Cell-organ/tissue source': 'cell_organ',\n",
    "        }, \n",
    "        inplace = True)"
   ]
  },
  {
   "cell_type": "markdown",
   "metadata": {},
   "source": [
    "### Переименуем соединения"
   ]
  },
  {
   "cell_type": "code",
   "execution_count": 61,
   "metadata": {},
   "outputs": [
    {
     "name": "stderr",
     "output_type": "stream",
     "text": [
      "c:\\Users\\Denis\\anaconda3\\lib\\site-packages\\pandas\\core\\series.py:4509: SettingWithCopyWarning: \n",
      "A value is trying to be set on a copy of a slice from a DataFrame\n",
      "\n",
      "See the caveats in the documentation: https://pandas.pydata.org/pandas-docs/stable/user_guide/indexing.html#returning-a-view-versus-a-copy\n",
      "  return super().replace(\n"
     ]
    }
   ],
   "source": [
    "mt_dict = {\n",
    "    'Copper Oxide': 'CuO',\n",
    "    'Zinc oxide': 'ZnO', \n",
    "    'Iron oxide': 'Fe2O3', \n",
    "    'Hydroxyapatite': 'Ca10(PO4)6(OH)2', \n",
    "    'Polystyrene': '(C8H8)n'\n",
    "    }\n",
    "data2['material_type'].replace(mt_dict, inplace = True)"
   ]
  },
  {
   "cell_type": "markdown",
   "metadata": {},
   "source": [
    "### Заполним пропуски"
   ]
  },
  {
   "cell_type": "code",
   "execution_count": 62,
   "metadata": {},
   "outputs": [],
   "source": [
    "data2.loc[21, 'cell_morphology'] = 'Endothelial'\n",
    "data2.loc[98, 'cell_age'] = 'A'\n",
    "data2.loc[31, 'test'] = 'MTT'\n",
    "data2.loc[106, 'test_indicator'] = 'toluylene red'\n",
    "data2.loc[69, 'biochemical_metrics'] = 'cell membrane integrity'"
   ]
  },
  {
   "cell_type": "markdown",
   "metadata": {},
   "source": [
    "### Сохраняем"
   ]
  },
  {
   "cell_type": "code",
   "execution_count": 63,
   "metadata": {},
   "outputs": [],
   "source": [
    "data2.to_excel('data/data2_prep.xlsx', index=False)"
   ]
  }
 ],
 "metadata": {
  "kernelspec": {
   "display_name": "Python 3.8.8 ('base')",
   "language": "python",
   "name": "python3"
  },
  "language_info": {
   "codemirror_mode": {
    "name": "ipython",
    "version": 3
   },
   "file_extension": ".py",
   "mimetype": "text/x-python",
   "name": "python",
   "nbconvert_exporter": "python",
   "pygments_lexer": "ipython3",
   "version": "3.8.8"
  },
  "orig_nbformat": 4,
  "vscode": {
   "interpreter": {
    "hash": "315520de32c5e12664aefd1bc9ed909764f9dee3450ed92151dd931576f30d47"
   }
  }
 },
 "nbformat": 4,
 "nbformat_minor": 2
}
