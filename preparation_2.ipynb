{
 "cells": [
  {
   "cell_type": "markdown",
   "metadata": {},
   "source": [
    "# Предобработка второй бд"
   ]
  },
  {
   "cell_type": "code",
   "execution_count": 127,
   "metadata": {},
   "outputs": [],
   "source": [
    "import pandas as pd\n",
    "import numpy as np\n",
    "\n",
    "data2 = pd.read_excel('data/Database_2.xlsx')"
   ]
  },
  {
   "cell_type": "markdown",
   "metadata": {},
   "source": [
    "### Отбрасываем признаки"
   ]
  },
  {
   "cell_type": "code",
   "execution_count": 128,
   "metadata": {},
   "outputs": [],
   "source": [
    "# drop_cols = [\n",
    "#     'Animal?', 'Test indicator', 'Biochemical metric', \n",
    "#     'Publication year', 'Particle ID', 'Reference DOI', \n",
    "#     'Interference checked (Y/N)', 'Colloidal stability checked (Y/N)', 'Positive control (Y/N)',\n",
    "#     'Cell age: embryonic (E), Adult (A)', 'Cell-organ/tissue source'\n",
    "# ]\n",
    "# data2 = data2.drop(columns = drop_cols)"
   ]
  },
  {
   "cell_type": "markdown",
   "metadata": {},
   "source": [
    "### Переименовываем признаки"
   ]
  },
  {
   "cell_type": "code",
   "execution_count": 129,
   "metadata": {},
   "outputs": [],
   "source": [
    "data2.rename(\n",
    "    columns = {\n",
    "        'Nanoparticle': 'material_type', \n",
    "        'Concentration μM': 'concentration',\n",
    "        '% Cell viability' : 'viability',\n",
    "        'Diameter (nm)': 'diameter',\n",
    "        'Zeta potential (mV)': 'surface_charge', \n",
    "        'Cells': 'cell_line', \n",
    "        'Cell line (L)/primary cells (P)': 'cell_line_bin', \n",
    "        'Human(H)/Animal(A) cells': 'human/animal',\n",
    "        'Cell morphology': 'cell_morphology', \n",
    "        'Exposure time (h)': 'time', \n",
    "        'Test': 'test', \n",
    "        'Type: Organic (O)/inorganic (I)': 'type',\n",
    "        'Animal?': 'animal',\n",
    "        'Test indicator': 'test_indicator', \n",
    "        'Biochemical metric': 'biochemical_metrics', \n",
    "        'Publication year': 'year', \n",
    "        'Particle ID': 'particle_id', \n",
    "        'Reference DOI': 'reference_doi', \n",
    "        'Interference checked (Y/N)': 'interference_test', \n",
    "        'Colloidal stability checked (Y/N)': 'colloidal_stability', \n",
    "        'Positive control (Y/N)': 'positive_control',\n",
    "        'Cell age: embryonic (E), Adult (A)': 'cell_age', \n",
    "        'Cell-organ/tissue source': 'cell_organ',\n",
    "        }, \n",
    "        inplace = True)"
   ]
  },
  {
   "cell_type": "markdown",
   "metadata": {},
   "source": [
    "### Переименуем соединения"
   ]
  },
  {
   "cell_type": "code",
   "execution_count": 130,
   "metadata": {},
   "outputs": [],
   "source": [
    "mt_dict = {\n",
    "    'Copper Oxide': 'CuO',\n",
    "    'Zinc oxide': 'ZnO', \n",
    "    'Iron oxide': 'Fe2O3', \n",
    "    'Hydroxyapatite': 'Ca10(PO4)6(OH)2', \n",
    "    'Polystyrene': '(C8H8)n'\n",
    "    }\n",
    "data2['material_type'].replace(mt_dict, inplace = True)"
   ]
  },
  {
   "cell_type": "markdown",
   "metadata": {},
   "source": [
    "### Заполним пропуски"
   ]
  },
  {
   "cell_type": "code",
   "execution_count": 131,
   "metadata": {},
   "outputs": [],
   "source": [
    "data2.loc[21, 'cell_morphology'] = 'Endothelial'\n",
    "data2.loc[98, 'cell_age'] = 'A'\n",
    "data2.loc[31, 'test'] = 'MTT'\n",
    "data2.loc[106, 'test_indicator'] = 'toluylene red'\n",
    "data2.loc[69, 'biochemical_metrics'] = 'cell membrane integrity'"
   ]
  },
  {
   "cell_type": "markdown",
   "metadata": {},
   "source": [
    "### Сохраняем"
   ]
  },
  {
   "cell_type": "code",
   "execution_count": 132,
   "metadata": {},
   "outputs": [],
   "source": [
    "data2.to_excel('data/data2_prep.xlsx', index=False)"
   ]
  },
  {
   "cell_type": "code",
   "execution_count": null,
   "metadata": {},
   "outputs": [],
   "source": []
  }
 ],
 "metadata": {
  "kernelspec": {
   "display_name": "Python 3.8.8 ('base')",
   "language": "python",
   "name": "python3"
  },
  "language_info": {
   "codemirror_mode": {
    "name": "ipython",
    "version": 3
   },
   "file_extension": ".py",
   "mimetype": "text/x-python",
   "name": "python",
   "nbconvert_exporter": "python",
   "pygments_lexer": "ipython3",
   "version": "3.8.8"
  },
  "orig_nbformat": 4,
  "vscode": {
   "interpreter": {
    "hash": "315520de32c5e12664aefd1bc9ed909764f9dee3450ed92151dd931576f30d47"
   }
  }
 },
 "nbformat": 4,
 "nbformat_minor": 2
}
