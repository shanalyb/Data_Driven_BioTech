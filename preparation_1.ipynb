{
 "cells": [
  {
   "cell_type": "markdown",
   "metadata": {},
   "source": [
    "# Предобработка первой и четвертой бд"
   ]
  },
  {
   "cell_type": "code",
   "execution_count": 207,
   "metadata": {},
   "outputs": [],
   "source": [
    "import pandas as pd\n",
    "import numpy as np\n",
    "\n",
    "data1 = pd.read_excel('data/Database_1.xlsx')\n",
    "data4 = pd.read_excel('data/Database_4.xlsx')"
   ]
  },
  {
   "cell_type": "code",
   "execution_count": 208,
   "metadata": {},
   "outputs": [],
   "source": [
    "# drop_cols = ['a (Å)', 'b (Å)', 'c (Å)', 'α (°)', 'β (°)', 'γ (°)', 'Density (g/cm3)']\n",
    "# data1.drop(drop_cols, axis=1, inplace=True)\n",
    "# data4.drop(drop_cols, axis=1, inplace=True)"
   ]
  },
  {
   "cell_type": "markdown",
   "metadata": {},
   "source": [
    "### Поправим значения в отдельных ячейках"
   ]
  },
  {
   "cell_type": "code",
   "execution_count": 209,
   "metadata": {},
   "outputs": [
    {
     "data": {
      "text/plain": [
       "Index(['Material type', 'Elements', 'Electronegativity', 'Ionic radius',\n",
       "       'Core size (nm)', 'Hydro size (nm)', 'Surface charge (mV)',\n",
       "       'Surface area (m2/g)', 'Cell type', 'Exposure dose (ug/mL)',\n",
       "       'Number of atoms', 'Molecular weight (g/mol)',\n",
       "       'Topological polar surface area (Å²)', 'a (Å)', 'b (Å)', 'c (Å)',\n",
       "       'α (°)', 'β (°)', 'γ (°)', 'Density (g/cm3)', 'Viability (%)'],\n",
       "      dtype='object')"
      ]
     },
     "execution_count": 209,
     "metadata": {},
     "output_type": "execute_result"
    }
   ],
   "source": [
    "data4.columns"
   ]
  },
  {
   "cell_type": "code",
   "execution_count": 210,
   "metadata": {},
   "outputs": [],
   "source": [
    "data4.loc[126, 'Material type'] = 'Al2O3'\n",
    "data4.loc[[24, 493], 'Material type'] = 'ZnO'\n",
    "\n",
    "data4.loc[397, 'Core size (nm)'] = 43.8\n",
    "data4.loc[487, 'Core size (nm)'] = 24.6\n",
    "\n",
    "data4.loc[6, 'Hydro size (nm)'] = 69.4\n",
    "data4.loc[390, 'Hydro size (nm)'] = 260.4\n",
    "\n",
    "data4.loc[390, 'Surface area (m2/g)'] = 101.4\n",
    "data4.loc[479, 'Surface area (m2/g)'] = 93.6\n",
    "\n",
    "data4.loc[126, 'Surface charge (mV)'] = 0.0\n",
    "\n",
    "# data4.loc[153, 'Exposure dose (ug/mL)'] = \n",
    "\n",
    "data4.loc[[24, 493], 'Number of atoms'] = 2.0\n",
    "data4.loc[126, 'Number of atoms'] = 5.0\n",
    "\n",
    "data4.loc[[24, 493], 'Molecular weight (g/mol)'] = 81.38\n",
    "data4.loc[126, 'Molecular weight (g/mol)'] = 101.96\n",
    "\n",
    "# Информацию можно проверить на https://pubchem.ncbi.nlm.nih.gov/\n",
    "idx_al2o3 = data4[data4['Topological polar surface area (Å²)'].notna() & (data4['Material type'] == 'Al2O3')]['Topological polar surface area (Å²)'].index\n",
    "idx_cuo = data4[data4['Topological polar surface area (Å²)'].notna() & (data4['Material type'] == 'CuO')]['Topological polar surface area (Å²)'].index\n",
    "idx_fe2o3 = data4[data4['Topological polar surface area (Å²)'].notna() & (data4['Material type'] == 'Fe2O3')]['Topological polar surface area (Å²)'].index\n",
    "idx_fe3o4 = data4[data4['Topological polar surface area (Å²)'].notna() & (data4['Material type'] == 'Fe3O4')]['Topological polar surface area (Å²)'].index\n",
    "idx_sio2 = data4[data4['Topological polar surface area (Å²)'].notna() & (data4['Material type'] == 'SiO2')]['Topological polar surface area (Å²)'].index\n",
    "idx_tio2 = data4[data4['Topological polar surface area (Å²)'].notna() & (data4['Material type'] == 'TiO2')]['Topological polar surface area (Å²)'].index\n",
    "idx_zno = data4[data4['Topological polar surface area (Å²)'].notna() & (data4['Material type'] == 'ZnO')]['Topological polar surface area (Å²)'].index\n",
    "\n",
    "data4.loc[idx_al2o3, 'Topological polar surface area (Å²)'] = 43.4\n",
    "data4.loc[idx_cuo, 'Topological polar surface area (Å²)'] = 17.1\n",
    "data4.loc[idx_fe2o3, 'Topological polar surface area (Å²)'] = 43.4\n",
    "data4.loc[idx_fe3o4, 'Topological polar surface area (Å²)'] = 60.4\n",
    "data4.loc[idx_sio2, 'Topological polar surface area (Å²)'] = 34.1\n",
    "data4.loc[idx_tio2, 'Topological polar surface area (Å²)'] = 34.1\n",
    "data4.loc[idx_zno, 'Topological polar surface area (Å²)'] = 17.1\n",
    "\n",
    "\n",
    "data1.loc[152, 'Electronegativity'] = 1.83\n",
    "data1.loc[19, 'Ionic radius'] = 65.\n",
    "data1.loc[203, 'Hydro size (nm)'] = 189.5\n",
    "data1.loc[154, 'Surface area (m2/g)'] = 93.1\n",
    "data1.loc[199, 'Molecular weight (g/mol)'] = 325.81\n",
    "\n",
    "\n",
    "# idx_al2o3 = data4[data4['a (Å)'].notna() & (data4['Material type'] == 'Al2O3')]['a (Å)'].index\n",
    "# idx_cuo = data4[data4['a (Å)'].notna() & (data4['Material type'] == 'CuO')]['a (Å)'].index\n",
    "# idx_fe2o3 = data4[data4['a (Å)'].notna() & (data4['Material type'] == 'Fe2O3')]['a (Å)'].index\n",
    "# idx_fe3o4 = data4[data4['a (Å)'].notna() & (data4['Material type'] == 'Fe3O4')]['a (Å)'].index\n",
    "# idx_sio2 = data4[data4['a (Å)'].notna() & (data4['Material type'] == 'SiO2')]['a (Å)'].index\n",
    "# idx_tio2 = data4[data4['a (Å)'].notna() & (data4['Material type'] == 'TiO2')]['a (Å)'].index\n",
    "# idx_zno = data4[data4['a (Å)'].notna() & (data4['Material type'] == 'ZnO')]['a (Å)'].index\n",
    "\n",
    "# data4.loc[idx_al2o3, 'a (Å)'] = 4.75\n",
    "# data4.loc[idx_cuo, 'a (Å)'] = 4.685\n",
    "# data4.loc[idx_fe2o3, 'a (Å)'] = 5.028\n",
    "# data4.loc[idx_fe3o4, 'a (Å)'] = \n",
    "# data4.loc[idx_sio2, 'a (Å)'] = \n",
    "# data4.loc[idx_tio2, 'a (Å)'] = \n",
    "# data4.loc[idx_zno, 'a (Å)'] = 3.249\n",
    "\n",
    "\n",
    "# idx_al2o3 = data4[data4['Density (g/cm3)'].notna() & (data4['Material type'] == 'Al2O3')]['Density (g/cm3)'].index\n",
    "# idx_cuo = data4[data4['Density (g/cm3)'].notna() & (data4['Material type'] == 'CuO')]['Density (g/cm3)'].index\n",
    "# idx_fe2o3 = data4[data4['Density (g/cm3)'].notna() & (data4['Material type'] == 'Fe2O3')]['Density (g/cm3)'].index\n",
    "# idx_fe3o4 = data4[data4['Density (g/cm3)'].notna() & (data4['Material type'] == 'Fe3O4')]['Density (g/cm3)'].index\n",
    "# idx_sio2 = data4[data4['Density (g/cm3)'].notna() & (data4['Material type'] == 'SiO2')]['Density (g/cm3)'].index\n",
    "# idx_tio2 = data4[data4['Density (g/cm3)'].notna() & (data4['Material type'] == 'TiO2')]['Density (g/cm3)'].index\n",
    "# idx_zno = data4[data4['Density (g/cm3)'].notna() & (data4['Material type'] == 'ZnO')]['Density (g/cm3)'].index\n",
    "\n",
    "# data4.loc[idx_al2o3, 'Density (g/cm3)'] = 3.87\n",
    "# data4.loc[idx_cuo, 'Density (g/cm3)'] = 5.94\n",
    "# data4.loc[idx_fe2o3, 'Density (g/cm3)'] = 5.07\n",
    "# data4.loc[idx_fe3o4, 'Density (g/cm3)'] = \n",
    "# data4.loc[idx_sio2, 'Density (g/cm3)'] = \n",
    "# data4.loc[idx_tio2, 'Density (g/cm3)'] = \n",
    "# data4.loc[idx_zno, 'Density (g/cm3)'] = 5.44"
   ]
  },
  {
   "cell_type": "markdown",
   "metadata": {},
   "source": [
    "### Объединяем первую и вторую базу"
   ]
  },
  {
   "cell_type": "code",
   "execution_count": 211,
   "metadata": {},
   "outputs": [],
   "source": [
    "data14 = pd.concat([data1, data4], ignore_index=True, sort=False)"
   ]
  },
  {
   "cell_type": "markdown",
   "metadata": {},
   "source": [
    "### Переименовываем признаки"
   ]
  },
  {
   "cell_type": "code",
   "execution_count": 212,
   "metadata": {},
   "outputs": [],
   "source": [
    "data14 = data14.rename(\n",
    "    columns={\n",
    "        'Material type': 'material_type', \n",
    "        'Hydro size (nm)': 'diameter', \n",
    "        'Surface charge (mV)': 'surface_charge', \n",
    "        'Cell type': 'cell_type', \n",
    "        'Exposure dose (ug/mL)': 'concentration', \n",
    "        'Viability (%)': 'viability',\n",
    "        'a (Å)': 'a',\n",
    "        'b (Å)': 'b',\n",
    "        'c (Å)': 'c',\n",
    "        'α (°)': 'alpha', \n",
    "        'β (°)': 'beta', \n",
    "        'γ (°)': 'gamma', \n",
    "        'Density (g/cm3)': 'density'\n",
    "        }\n",
    "    )"
   ]
  },
  {
   "cell_type": "markdown",
   "metadata": {},
   "source": [
    "### Сохраняем"
   ]
  },
  {
   "cell_type": "code",
   "execution_count": 213,
   "metadata": {},
   "outputs": [],
   "source": [
    "data14.to_excel('data/data14_prep.xlsx', index=False)"
   ]
  },
  {
   "cell_type": "code",
   "execution_count": null,
   "metadata": {},
   "outputs": [],
   "source": []
  }
 ],
 "metadata": {
  "kernelspec": {
   "display_name": "Python 3.8.8 ('base')",
   "language": "python",
   "name": "python3"
  },
  "language_info": {
   "codemirror_mode": {
    "name": "ipython",
    "version": 3
   },
   "file_extension": ".py",
   "mimetype": "text/x-python",
   "name": "python",
   "nbconvert_exporter": "python",
   "pygments_lexer": "ipython3",
   "version": "3.8.8"
  },
  "orig_nbformat": 4,
  "vscode": {
   "interpreter": {
    "hash": "315520de32c5e12664aefd1bc9ed909764f9dee3450ed92151dd931576f30d47"
   }
  }
 },
 "nbformat": 4,
 "nbformat_minor": 2
}
