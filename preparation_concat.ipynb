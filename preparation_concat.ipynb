{
 "cells": [
  {
   "cell_type": "code",
   "execution_count": 253,
   "metadata": {},
   "outputs": [],
   "source": [
    "import pandas as pd\n",
    "import numpy as np\n",
    "\n",
    "data14 = pd.read_excel('data/data14_prep.xlsx')\n",
    "data2 = pd.read_excel('data/data2_prep.xlsx')\n",
    "data3 = pd.read_excel('data/data3_prep.xlsx')\n",
    "data5 = pd.read_excel('data/data5_prep.xlsx')"
   ]
  },
  {
   "cell_type": "markdown",
   "metadata": {},
   "source": [
    "### Объединим все бд в одну"
   ]
  },
  {
   "cell_type": "code",
   "execution_count": 254,
   "metadata": {},
   "outputs": [],
   "source": [
    "data = pd.concat([data14, data2, data3, data5], ignore_index=True, sort=False)"
   ]
  },
  {
   "cell_type": "code",
   "execution_count": 255,
   "metadata": {},
   "outputs": [
    {
     "data": {
      "text/html": [
       "<div>\n",
       "<style scoped>\n",
       "    .dataframe tbody tr th:only-of-type {\n",
       "        vertical-align: middle;\n",
       "    }\n",
       "\n",
       "    .dataframe tbody tr th {\n",
       "        vertical-align: top;\n",
       "    }\n",
       "\n",
       "    .dataframe thead th {\n",
       "        text-align: right;\n",
       "    }\n",
       "</style>\n",
       "<table border=\"1\" class=\"dataframe\">\n",
       "  <thead>\n",
       "    <tr style=\"text-align: right;\">\n",
       "      <th></th>\n",
       "      <th>material_type</th>\n",
       "      <th>elements</th>\n",
       "      <th>electronegativity</th>\n",
       "      <th>ionic_radius</th>\n",
       "      <th>core_size</th>\n",
       "      <th>diameter</th>\n",
       "      <th>surface_charge</th>\n",
       "      <th>surface_area</th>\n",
       "      <th>cell_type</th>\n",
       "      <th>concentration</th>\n",
       "      <th>...</th>\n",
       "      <th>shape</th>\n",
       "      <th>synthesis_method</th>\n",
       "      <th>surface_charge_type</th>\n",
       "      <th>size_in_water</th>\n",
       "      <th>size_in_medium</th>\n",
       "      <th>zeta_in_medium</th>\n",
       "      <th>no_of_cells</th>\n",
       "      <th>aspect_ratio</th>\n",
       "      <th>pdi</th>\n",
       "      <th>toxicity</th>\n",
       "    </tr>\n",
       "  </thead>\n",
       "  <tbody>\n",
       "    <tr>\n",
       "      <th>0</th>\n",
       "      <td>CuO</td>\n",
       "      <td>Cu</td>\n",
       "      <td>1.90</td>\n",
       "      <td>73.0</td>\n",
       "      <td>12.8</td>\n",
       "      <td>313.8</td>\n",
       "      <td>7.6</td>\n",
       "      <td>74.2</td>\n",
       "      <td>1</td>\n",
       "      <td>200.0</td>\n",
       "      <td>...</td>\n",
       "      <td>NaN</td>\n",
       "      <td>NaN</td>\n",
       "      <td>NaN</td>\n",
       "      <td>NaN</td>\n",
       "      <td>NaN</td>\n",
       "      <td>NaN</td>\n",
       "      <td>NaN</td>\n",
       "      <td>NaN</td>\n",
       "      <td>NaN</td>\n",
       "      <td>NaN</td>\n",
       "    </tr>\n",
       "    <tr>\n",
       "      <th>1</th>\n",
       "      <td>ZnO</td>\n",
       "      <td>Zn</td>\n",
       "      <td>1.65</td>\n",
       "      <td>74.0</td>\n",
       "      <td>22.6</td>\n",
       "      <td>114.7</td>\n",
       "      <td>28.8</td>\n",
       "      <td>47.4</td>\n",
       "      <td>0</td>\n",
       "      <td>200.0</td>\n",
       "      <td>...</td>\n",
       "      <td>NaN</td>\n",
       "      <td>NaN</td>\n",
       "      <td>NaN</td>\n",
       "      <td>NaN</td>\n",
       "      <td>NaN</td>\n",
       "      <td>NaN</td>\n",
       "      <td>NaN</td>\n",
       "      <td>NaN</td>\n",
       "      <td>NaN</td>\n",
       "      <td>NaN</td>\n",
       "    </tr>\n",
       "    <tr>\n",
       "      <th>2</th>\n",
       "      <td>ZnO</td>\n",
       "      <td>Zn</td>\n",
       "      <td>1.65</td>\n",
       "      <td>74.0</td>\n",
       "      <td>22.6</td>\n",
       "      <td>114.7</td>\n",
       "      <td>28.8</td>\n",
       "      <td>47.4</td>\n",
       "      <td>0</td>\n",
       "      <td>100.0</td>\n",
       "      <td>...</td>\n",
       "      <td>NaN</td>\n",
       "      <td>NaN</td>\n",
       "      <td>NaN</td>\n",
       "      <td>NaN</td>\n",
       "      <td>NaN</td>\n",
       "      <td>NaN</td>\n",
       "      <td>NaN</td>\n",
       "      <td>NaN</td>\n",
       "      <td>NaN</td>\n",
       "      <td>NaN</td>\n",
       "    </tr>\n",
       "    <tr>\n",
       "      <th>3</th>\n",
       "      <td>ZnO</td>\n",
       "      <td>Zn</td>\n",
       "      <td>1.65</td>\n",
       "      <td>74.0</td>\n",
       "      <td>22.6</td>\n",
       "      <td>69.4</td>\n",
       "      <td>28.8</td>\n",
       "      <td>47.4</td>\n",
       "      <td>1</td>\n",
       "      <td>100.0</td>\n",
       "      <td>...</td>\n",
       "      <td>NaN</td>\n",
       "      <td>NaN</td>\n",
       "      <td>NaN</td>\n",
       "      <td>NaN</td>\n",
       "      <td>NaN</td>\n",
       "      <td>NaN</td>\n",
       "      <td>NaN</td>\n",
       "      <td>NaN</td>\n",
       "      <td>NaN</td>\n",
       "      <td>NaN</td>\n",
       "    </tr>\n",
       "    <tr>\n",
       "      <th>4</th>\n",
       "      <td>Mn2O3</td>\n",
       "      <td>Mn</td>\n",
       "      <td>1.55</td>\n",
       "      <td>58.0</td>\n",
       "      <td>51.5</td>\n",
       "      <td>291.7</td>\n",
       "      <td>-46.1</td>\n",
       "      <td>25.9</td>\n",
       "      <td>1</td>\n",
       "      <td>200.0</td>\n",
       "      <td>...</td>\n",
       "      <td>NaN</td>\n",
       "      <td>NaN</td>\n",
       "      <td>NaN</td>\n",
       "      <td>NaN</td>\n",
       "      <td>NaN</td>\n",
       "      <td>NaN</td>\n",
       "      <td>NaN</td>\n",
       "      <td>NaN</td>\n",
       "      <td>NaN</td>\n",
       "      <td>NaN</td>\n",
       "    </tr>\n",
       "  </tbody>\n",
       "</table>\n",
       "<p>5 rows × 50 columns</p>\n",
       "</div>"
      ],
      "text/plain": [
       "  material_type elements  electronegativity  ionic_radius  core_size  \\\n",
       "0           CuO       Cu               1.90          73.0       12.8   \n",
       "1           ZnO       Zn               1.65          74.0       22.6   \n",
       "2           ZnO       Zn               1.65          74.0       22.6   \n",
       "3           ZnO       Zn               1.65          74.0       22.6   \n",
       "4         Mn2O3       Mn               1.55          58.0       51.5   \n",
       "\n",
       "   diameter  surface_charge  surface_area cell_type  concentration  ...  \\\n",
       "0     313.8             7.6          74.2         1          200.0  ...   \n",
       "1     114.7            28.8          47.4         0          200.0  ...   \n",
       "2     114.7            28.8          47.4         0          100.0  ...   \n",
       "3      69.4            28.8          47.4         1          100.0  ...   \n",
       "4     291.7           -46.1          25.9         1          200.0  ...   \n",
       "\n",
       "   shape  synthesis_method  surface_charge_type size_in_water size_in_medium  \\\n",
       "0    NaN               NaN                  NaN           NaN            NaN   \n",
       "1    NaN               NaN                  NaN           NaN            NaN   \n",
       "2    NaN               NaN                  NaN           NaN            NaN   \n",
       "3    NaN               NaN                  NaN           NaN            NaN   \n",
       "4    NaN               NaN                  NaN           NaN            NaN   \n",
       "\n",
       "  zeta_in_medium no_of_cells aspect_ratio pdi toxicity  \n",
       "0            NaN         NaN          NaN NaN      NaN  \n",
       "1            NaN         NaN          NaN NaN      NaN  \n",
       "2            NaN         NaN          NaN NaN      NaN  \n",
       "3            NaN         NaN          NaN NaN      NaN  \n",
       "4            NaN         NaN          NaN NaN      NaN  \n",
       "\n",
       "[5 rows x 50 columns]"
      ]
     },
     "execution_count": 255,
     "metadata": {},
     "output_type": "execute_result"
    }
   ],
   "source": [
    "data.head()"
   ]
  },
  {
   "cell_type": "markdown",
   "metadata": {},
   "source": [
    "### Отбросим пустую колонку"
   ]
  },
  {
   "cell_type": "code",
   "execution_count": 256,
   "metadata": {},
   "outputs": [],
   "source": [
    "# data.drop('Unnamed: 24', axis=1, inplace=True)"
   ]
  },
  {
   "cell_type": "markdown",
   "metadata": {},
   "source": [
    "### Предобработаем отдельные признаки"
   ]
  },
  {
   "cell_type": "code",
   "execution_count": 257,
   "metadata": {},
   "outputs": [],
   "source": [
    "sct_dict = {\n",
    "    '+': 'Positive',\n",
    "    '-': 'Negative', \n",
    "    'Negtive': 'Negative',\n",
    "    0: 'Neutral', \n",
    "    'Not known': np.nan, \n",
    "    'Not available': np.nan\n",
    "    }\n",
    "data['surface_charge_type'].replace(sct_dict, inplace = True)"
   ]
  },
  {
   "cell_type": "code",
   "execution_count": 258,
   "metadata": {},
   "outputs": [],
   "source": [
    "ca_dict = {\n",
    "    'A': 'Adult',\n",
    "    'E': 'Embryonic',\n",
    "    }\n",
    "data['cell_age'].replace(ca_dict, inplace = True)"
   ]
  },
  {
   "cell_type": "code",
   "execution_count": 259,
   "metadata": {},
   "outputs": [],
   "source": [
    "co_dict = {\n",
    "    'lung': 'Lung',\n",
    "    'Bone marrow': 'Bone Marrow',\n",
    "    'BoneMarrow': 'Bone Marrow',\n",
    "    'kidney': 'Kidney',\n",
    "    'stomach': 'Stomach',\n",
    "    'axillary lymph node': 'Axillary Lymph Node',\n",
    "    'adrenal gland': 'Adrenal Gland',\n",
    "    'Adrenal gland': 'Adrenal Gland',\n",
    "    'Urinary bladder': 'Urinary Bladder',\n",
    "    'UrinaryBladder': 'Urinary Bladder',\n",
    "    'embryo': 'Embryo',\n",
    "    'liver': 'Liver',\n",
    "    'Umbilical cord': 'Umbilical Cord'\n",
    "    }\n",
    "data['cell_organ'].replace(co_dict, inplace = True)"
   ]
  },
  {
   "cell_type": "code",
   "execution_count": 260,
   "metadata": {},
   "outputs": [],
   "source": [
    "c_dict = {\n",
    "    'silica': 'Silica',\n",
    "    'Tween80': 'Tween 80',\n",
    "    'Hyaluronic acid ': 'Hyaluronic acid'\n",
    "    }\n",
    "data['coat'].replace(c_dict, inplace = True)"
   ]
  },
  {
   "cell_type": "markdown",
   "metadata": {},
   "source": [
    "### Сформируем справочник \"тип клеток - тип клеточных линий\""
   ]
  },
  {
   "cell_type": "code",
   "execution_count": 261,
   "metadata": {},
   "outputs": [],
   "source": [
    "# data[['cell_line', 'cell_type']].drop_duplicates()[data.cell_type.notna()].dropna()"
   ]
  },
  {
   "cell_type": "code",
   "execution_count": 262,
   "metadata": {},
   "outputs": [],
   "source": [
    "# cl_dict = data[['cell_line', 'cell_type']].drop_duplicates()[data.cell_type.notna()].dropna().set_index('cell_line')['cell_type'].to_dict()"
   ]
  },
  {
   "cell_type": "markdown",
   "metadata": {},
   "source": [
    "### Применим справочник"
   ]
  },
  {
   "cell_type": "code",
   "execution_count": 263,
   "metadata": {},
   "outputs": [],
   "source": [
    "# # 0 - Normal, 1 - Cancer\n",
    "# type = {'Normal': 0, 'Cancer': 1}\n",
    "# data['cell_type'].replace(type, inplace=True)"
   ]
  },
  {
   "cell_type": "markdown",
   "metadata": {},
   "source": [
    "### Работаем с полем *type*"
   ]
  },
  {
   "cell_type": "code",
   "execution_count": 264,
   "metadata": {},
   "outputs": [],
   "source": [
    "data['type'].replace({0: 'O'}, inplace=True)\n",
    "data['type'].fillna('I', inplace=True)"
   ]
  },
  {
   "cell_type": "markdown",
   "metadata": {},
   "source": [
    "### Устраняем дубли"
   ]
  },
  {
   "cell_type": "code",
   "execution_count": 265,
   "metadata": {},
   "outputs": [],
   "source": [
    "data.drop_duplicates(inplace = True)"
   ]
  },
  {
   "cell_type": "markdown",
   "metadata": {},
   "source": [
    "### Сохраняем"
   ]
  },
  {
   "cell_type": "code",
   "execution_count": 266,
   "metadata": {},
   "outputs": [],
   "source": [
    "data.to_excel('data/data_prep.xlsx', index=False)"
   ]
  },
  {
   "cell_type": "code",
   "execution_count": null,
   "metadata": {},
   "outputs": [],
   "source": []
  }
 ],
 "metadata": {
  "kernelspec": {
   "display_name": "Python 3.10.7 64-bit",
   "language": "python",
   "name": "python3"
  },
  "language_info": {
   "codemirror_mode": {
    "name": "ipython",
    "version": 3
   },
   "file_extension": ".py",
   "mimetype": "text/x-python",
   "name": "python",
   "nbconvert_exporter": "python",
   "pygments_lexer": "ipython3",
   "version": "3.10.7"
  },
  "orig_nbformat": 4,
  "vscode": {
   "interpreter": {
    "hash": "256290e5d779d098235c7da0da63243dc5a2d137c006ed76deee9b7ada065117"
   }
  }
 },
 "nbformat": 4,
 "nbformat_minor": 2
}
