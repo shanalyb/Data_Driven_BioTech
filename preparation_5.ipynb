{
 "cells": [
  {
   "cell_type": "markdown",
   "metadata": {},
   "source": [
    "# Предобработка пятой бд"
   ]
  },
  {
   "cell_type": "code",
   "execution_count": 151,
   "metadata": {},
   "outputs": [],
   "source": [
    "import pandas as pd\n",
    "import numpy as np\n",
    "import chemparse\n",
    "from pymatgen.core.composition import Composition\n",
    "\n",
    "data5 = pd.read_excel('data/Database_5.xlsx')"
   ]
  },
  {
   "cell_type": "markdown",
   "metadata": {},
   "source": [
    "### Переименовываем признаки"
   ]
  },
  {
   "cell_type": "code",
   "execution_count": 152,
   "metadata": {},
   "outputs": [],
   "source": [
    "data5.rename(\n",
    "    columns = {\n",
    "        'material': 'material_type', \n",
    "        'core_size': 'core_size', \n",
    "        'hydro_size': 'diameter', \n",
    "        'surf_charge': 'surface_charge', \n",
    "        'surf_area': 'surface_area',\n",
    "        'cell_species': 'animal', \n",
    "        'cell_origin': 'cell_organ',\n",
    "        'dose': 'concentration'\n",
    "        }, \n",
    "        inplace = True)"
   ]
  },
  {
   "cell_type": "markdown",
   "metadata": {},
   "source": [
    "### Заполним пропуски"
   ]
  },
  {
   "cell_type": "code",
   "execution_count": 153,
   "metadata": {},
   "outputs": [],
   "source": [
    "data5.loc[21, 'surface_charge'] = 42.8\n",
    "data5.loc[13, 'surface_charge'] = 'HCMEC'\n",
    "data5.loc[195, 'core_size'] = 25\n",
    "data5.loc[196, 'cell_line'] = 'SH_SY5Y'\n",
    "data5.loc[472, 'diameter'] = 687\n",
    "data5.loc[462, 'core_size'] = 100\n",
    "data5.loc[455, 'core_size'] = 100"
   ]
  },
  {
   "cell_type": "markdown",
   "metadata": {},
   "source": [
    "### Добавим молярную массу"
   ]
  },
  {
   "cell_type": "code",
   "execution_count": 154,
   "metadata": {},
   "outputs": [],
   "source": [
    "data5['molecular_weight'] = data5['material_type'].apply(lambda x: Composition(chemparse.parse_formula(x)).weight)"
   ]
  },
  {
   "cell_type": "markdown",
   "metadata": {},
   "source": [
    "### Добавим электроотрицательность"
   ]
  },
  {
   "cell_type": "code",
   "execution_count": 155,
   "metadata": {},
   "outputs": [],
   "source": [
    "data5['electronegativity'] = data5['material_type'].apply(lambda x: Composition(chemparse.parse_formula(x)).average_electroneg)"
   ]
  },
  {
   "cell_type": "markdown",
   "metadata": {},
   "source": [
    "### Сохраняем"
   ]
  },
  {
   "cell_type": "code",
   "execution_count": 156,
   "metadata": {},
   "outputs": [],
   "source": [
    "data5.to_excel('data/data5_prep.xlsx', index=False)"
   ]
  },
  {
   "cell_type": "code",
   "execution_count": null,
   "metadata": {},
   "outputs": [],
   "source": []
  }
 ],
 "metadata": {
  "kernelspec": {
   "display_name": "Python 3.10.7 64-bit",
   "language": "python",
   "name": "python3"
  },
  "language_info": {
   "codemirror_mode": {
    "name": "ipython",
    "version": 3
   },
   "file_extension": ".py",
   "mimetype": "text/x-python",
   "name": "python",
   "nbconvert_exporter": "python",
   "pygments_lexer": "ipython3",
   "version": "3.10.7"
  },
  "orig_nbformat": 4,
  "vscode": {
   "interpreter": {
    "hash": "256290e5d779d098235c7da0da63243dc5a2d137c006ed76deee9b7ada065117"
   }
  }
 },
 "nbformat": 4,
 "nbformat_minor": 2
}
