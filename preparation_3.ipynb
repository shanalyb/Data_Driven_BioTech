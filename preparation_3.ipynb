{
 "cells": [
  {
   "cell_type": "markdown",
   "metadata": {},
   "source": [
    "# Предобрботка третьей бд"
   ]
  },
  {
   "cell_type": "code",
   "execution_count": 138,
   "metadata": {},
   "outputs": [],
   "source": [
    "import pandas as pd\n",
    "import numpy as np\n",
    "\n",
    "data3 = pd.read_excel('data/Database_3.xlsx')"
   ]
  },
  {
   "cell_type": "code",
   "execution_count": 139,
   "metadata": {},
   "outputs": [],
   "source": [
    "data3 = data3.drop(columns=['No'])"
   ]
  },
  {
   "cell_type": "markdown",
   "metadata": {},
   "source": [
    "### Переименовываем признаки"
   ]
  },
  {
   "cell_type": "code",
   "execution_count": 140,
   "metadata": {},
   "outputs": [],
   "source": [
    "data3.rename(\n",
    "    columns = {\n",
    "        'Year': 'year',\n",
    "        'Material': 'material_type',\n",
    "        'Type': 'type',\n",
    "        'Shape': 'shape',\n",
    "        'Coat/Functional Group': 'coat',\n",
    "        'Synthesis_Method': 'synthesis_method',\n",
    "        'Surface_Charge': 'surface_charge_type',\n",
    "        'Diameter (nm)': 'diameter',\n",
    "        'Size_in_Water (nm)': 'size_in_water',\n",
    "        'Size_in_Medium (nm)': 'size_in_medium',\n",
    "        'Zeta_in_Water (mV)': 'surface_charge',\n",
    "        'Zeta_in_Medium (mV)': 'zeta_in_medium', \n",
    "        'Cell_Type': 'cell_line', \n",
    "        'No_of_Cells (cells/well)': 'no_of_cells',\n",
    "        'Human_Animal': 'human/animal', \n",
    "        'Cell_Source': 'animal', \n",
    "        'Cell_Tissue': 'cell_organ', \n",
    "        'Cell_Morphology': 'cell_morphology',\n",
    "        'Cell_Age': 'cell_age', \n",
    "        'Cell Line_Primary Cell': 'cell_line_bin', \n",
    "        'Time (hr)': 'time',\n",
    "        'Concentration (ug/ml)': 'concentration', \n",
    "        'Test': 'test', \n",
    "        'Test_Indicator': 'test_indicator', \n",
    "        'Aspect_Ratio': 'aspect_ratio',\n",
    "        'Cell_Viability (%)': 'viability', \n",
    "        'PDI': 'pdi', \n",
    "        'Article_ID': 'particle_id', \n",
    "        'DOI': 'reference_doi'\n",
    "        }, \n",
    "        inplace = True)"
   ]
  },
  {
   "cell_type": "markdown",
   "metadata": {},
   "source": [
    "### Переименуем соединения"
   ]
  },
  {
   "cell_type": "code",
   "execution_count": 141,
   "metadata": {},
   "outputs": [],
   "source": [
    "mt_dict = {\n",
    "    'IronOxide': 'Fe2O3',\n",
    "    'Dendrimer': 'Dendrimer', \n",
    "    'HAP': 'Ca10(PO4)6(OH)2',\n",
    "    'Polystyrene': '(C8H8)n',\n",
    "    'IronOide': 'Fe2O3',\n",
    "    'Ay': 'Fe', \n",
    "    'Ce O2': 'CeO2'\n",
    "    }\n",
    "data3['material_type'].replace(mt_dict, inplace = True)"
   ]
  },
  {
   "cell_type": "code",
   "execution_count": 142,
   "metadata": {},
   "outputs": [],
   "source": [
    "data3.replace({'None': np.nan}, inplace = True)"
   ]
  },
  {
   "cell_type": "markdown",
   "metadata": {},
   "source": [
    "### Работа с полем *surface_charge*"
   ]
  },
  {
   "cell_type": "code",
   "execution_count": 143,
   "metadata": {},
   "outputs": [],
   "source": [
    "data3.loc[320, 'surface_charge'] = 150"
   ]
  },
  {
   "cell_type": "code",
   "execution_count": 144,
   "metadata": {},
   "outputs": [],
   "source": [
    "data3['surface_charge'] = pd.to_numeric(data3['surface_charge'])"
   ]
  },
  {
   "cell_type": "markdown",
   "metadata": {},
   "source": [
    "### Сохраняем"
   ]
  },
  {
   "cell_type": "code",
   "execution_count": 145,
   "metadata": {},
   "outputs": [],
   "source": [
    "data3.to_excel('data/data3_prep.xlsx', index=False)"
   ]
  },
  {
   "cell_type": "code",
   "execution_count": null,
   "metadata": {},
   "outputs": [],
   "source": []
  }
 ],
 "metadata": {
  "kernelspec": {
   "display_name": "Python 3.8.8 ('base')",
   "language": "python",
   "name": "python3"
  },
  "language_info": {
   "codemirror_mode": {
    "name": "ipython",
    "version": 3
   },
   "file_extension": ".py",
   "mimetype": "text/x-python",
   "name": "python",
   "nbconvert_exporter": "python",
   "pygments_lexer": "ipython3",
   "version": "3.8.8"
  },
  "orig_nbformat": 4,
  "vscode": {
   "interpreter": {
    "hash": "315520de32c5e12664aefd1bc9ed909764f9dee3450ed92151dd931576f30d47"
   }
  }
 },
 "nbformat": 4,
 "nbformat_minor": 2
}
