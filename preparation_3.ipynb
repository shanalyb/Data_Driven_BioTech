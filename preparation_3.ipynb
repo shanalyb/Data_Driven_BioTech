{
 "cells": [
  {
   "cell_type": "markdown",
   "metadata": {},
   "source": [
    "# Предобрботка третьей бд"
   ]
  },
  {
   "cell_type": "code",
   "execution_count": 31,
   "metadata": {},
   "outputs": [],
   "source": [
    "import pandas as pd\n",
    "import numpy as np\n",
    "import chemparse\n",
    "from pymatgen.core.composition import Composition\n",
    "\n",
    "data3 = pd.read_excel('data/Database_3.xlsx')"
   ]
  },
  {
   "cell_type": "code",
   "execution_count": 32,
   "metadata": {},
   "outputs": [],
   "source": [
    "data3 = data3.drop(columns=['No'])"
   ]
  },
  {
   "cell_type": "markdown",
   "metadata": {},
   "source": [
    "### Переименовываем признаки"
   ]
  },
  {
   "cell_type": "code",
   "execution_count": 33,
   "metadata": {},
   "outputs": [],
   "source": [
    "data3.rename(\n",
    "    columns = {\n",
    "        'Year': 'year',\n",
    "        'Material': 'material_type',\n",
    "        'Type': 'type',\n",
    "        'Shape': 'shape',\n",
    "        'Coat/Functional Group': 'coat',\n",
    "        'Synthesis_Method': 'synthesis_method',\n",
    "        'Surface_Charge': 'surface_charge_type',\n",
    "        'Diameter (nm)': 'diameter',\n",
    "        'Size_in_Water (nm)': 'size_in_water',\n",
    "        'Size_in_Medium (nm)': 'size_in_medium',\n",
    "        'Zeta_in_Water (mV)': 'surface_charge',\n",
    "        'Zeta_in_Medium (mV)': 'zeta_in_medium', \n",
    "        'Cell_Type': 'cell_line', \n",
    "        'No_of_Cells (cells/well)': 'no_of_cells',\n",
    "        'Human_Animal': 'human/animal', \n",
    "        'Cell_Source': 'animal', \n",
    "        'Cell_Tissue': 'cell_organ', \n",
    "        'Cell_Morphology': 'cell_morphology',\n",
    "        'Cell_Age': 'cell_age', \n",
    "        'Cell Line_Primary Cell': 'cell_line_bin', \n",
    "        'Time (hr)': 'time',\n",
    "        'Concentration (ug/ml)': 'concentration', \n",
    "        'Test': 'test', \n",
    "        'Test_Indicator': 'test_indicator', \n",
    "        'Aspect_Ratio': 'aspect_ratio',\n",
    "        'Cell_Viability (%)': 'viability', \n",
    "        'PDI': 'pdi', \n",
    "        'Article_ID': 'particle_id', \n",
    "        'DOI': 'reference_doi'\n",
    "        }, \n",
    "        inplace = True)"
   ]
  },
  {
   "cell_type": "markdown",
   "metadata": {},
   "source": [
    "### Переименуем соединения"
   ]
  },
  {
   "cell_type": "code",
   "execution_count": 34,
   "metadata": {},
   "outputs": [],
   "source": [
    "mt_dict = {\n",
    "    'IronOxide': 'Fe2O3',\n",
    "    'Dendrmer': 'Dendrimer', \n",
    "    'HAP': 'Ca10(PO4)6(OH)2',\n",
    "    'IronOide': 'Fe2O3',\n",
    "    'Ay': 'Fe', \n",
    "    'Ce O2': 'CeO2'\n",
    "    }\n",
    "data3['material_type'].replace(mt_dict, inplace = True)"
   ]
  },
  {
   "cell_type": "code",
   "execution_count": 35,
   "metadata": {},
   "outputs": [],
   "source": [
    "data3.replace({'None': np.nan}, inplace = True)"
   ]
  },
  {
   "cell_type": "markdown",
   "metadata": {},
   "source": [
    "### Работа с полем *surface_charge*"
   ]
  },
  {
   "cell_type": "code",
   "execution_count": 36,
   "metadata": {},
   "outputs": [],
   "source": [
    "data3.loc[320, 'surface_charge'] = 150"
   ]
  },
  {
   "cell_type": "code",
   "execution_count": 37,
   "metadata": {},
   "outputs": [],
   "source": [
    "data3['surface_charge'] = pd.to_numeric(data3['surface_charge'])"
   ]
  },
  {
   "cell_type": "markdown",
   "metadata": {},
   "source": [
    "### Добавим молярную массу"
   ]
  },
  {
   "cell_type": "code",
   "execution_count": 38,
   "metadata": {},
   "outputs": [],
   "source": [
    "without_formula = [\n",
    "    'QD', 'Dendrimer', 'PLGA', 'Polystyrene',\n",
    "    'Alginate', 'PTFE-PMMA', 'MWCNT', \n",
    "    '(C8H8)n', 'Chitosan','SLN',\n",
    "    'EudragitRL', 'Carbon', 'C60',\n",
    "    'C70', 'SWCNT', 'Diamond', 'Graphite'\n",
    "    ]"
   ]
  },
  {
   "cell_type": "code",
   "execution_count": 39,
   "metadata": {},
   "outputs": [],
   "source": [
    "data3['molecular_weight'] = data3['material_type'].apply(lambda x: Composition(chemparse.parse_formula(x)).weight if x not in without_formula else np.nan)"
   ]
  },
  {
   "cell_type": "code",
   "execution_count": 40,
   "metadata": {},
   "outputs": [],
   "source": [
    "c_lst = ['MWCNT', 'Carbon', 'SWCNT', 'MWCNT', 'Diamond', 'Graphite', 'QDs']\n",
    "\n",
    "data3.loc[data3.material_type.isin(c_lst), 'molecular_weight'] = 12.01\n",
    "data3.loc[data3.material_type == 'Dendrimer', 'molecular_weight'] = 516.7\n",
    "data3.loc[data3.material_type == 'PLGA', 'molecular_weight'] = 148.11\n",
    "data3.loc[data3.material_type == 'Alginate', 'molecular_weight'] = 216.12\n",
    "data3.loc[data3.material_type == 'PTFE-PMMA', 'molecular_weight'] = 100.12\n",
    "data3.loc[data3.material_type == 'Dendrimer', 'molecular_weight'] = 516.7\n",
    "data3.loc[data3.material_type == 'Polystyrene', 'molecular_weight'] = 104.1\n",
    "data3.loc[data3.material_type == 'Chitosan', 'molecular_weight'] = 501.5\n",
    "data3.loc[data3.material_type == 'EudragitRL', 'molecular_weight'] = 231.29\n",
    "data3.loc[data3.material_type == 'Diamond', 'molecular_weight'] = 12.01\n",
    "data3.loc[data3.material_type == 'C70', 'molecular_weight'] = 840.7\n",
    "data3.loc[data3.material_type == 'C60', 'molecular_weight'] = 720.66\n",
    "data3.loc[data3.material_type == 'Graphite', 'molecular_weight'] = 12.01\n",
    "data3.loc[data3.material_type == 'SLN', 'molecular_weight'] = data3.molecular_weight.mean()"
   ]
  },
  {
   "cell_type": "markdown",
   "metadata": {},
   "source": [
    "### Добавим электроотрицательность"
   ]
  },
  {
   "cell_type": "code",
   "execution_count": 41,
   "metadata": {},
   "outputs": [],
   "source": [
    "data3['electronegativity'] = data3['material_type'].apply(lambda x: Composition(chemparse.parse_formula(x)).average_electroneg if x not in without_formula else np.nan)"
   ]
  },
  {
   "cell_type": "markdown",
   "metadata": {},
   "source": [
    "### Сохраняем"
   ]
  },
  {
   "cell_type": "code",
   "execution_count": 42,
   "metadata": {},
   "outputs": [],
   "source": [
    "data3.to_excel('data/data3_prep.xlsx', index=False)"
   ]
  },
  {
   "cell_type": "code",
   "execution_count": null,
   "metadata": {},
   "outputs": [],
   "source": []
  }
 ],
 "metadata": {
  "kernelspec": {
   "display_name": "Python 3.10.7 64-bit",
   "language": "python",
   "name": "python3"
  },
  "language_info": {
   "codemirror_mode": {
    "name": "ipython",
    "version": 3
   },
   "file_extension": ".py",
   "mimetype": "text/x-python",
   "name": "python",
   "nbconvert_exporter": "python",
   "pygments_lexer": "ipython3",
   "version": "3.10.7"
  },
  "orig_nbformat": 4,
  "vscode": {
   "interpreter": {
    "hash": "256290e5d779d098235c7da0da63243dc5a2d137c006ed76deee9b7ada065117"
   }
  }
 },
 "nbformat": 4,
 "nbformat_minor": 2
}
